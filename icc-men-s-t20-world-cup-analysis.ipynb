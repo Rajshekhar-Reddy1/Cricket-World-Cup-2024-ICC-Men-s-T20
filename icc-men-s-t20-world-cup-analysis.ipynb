{
 "cells": [
  {
   "cell_type": "code",
   "execution_count": 1,
   "id": "f3bfc8b0",
   "metadata": {
    "_cell_guid": "b1076dfc-b9ad-4769-8c92-a6c4dae69d19",
    "_uuid": "8f2839f25d086af736a60e9eeb907d3b93b6e0e5",
    "execution": {
     "iopub.execute_input": "2024-07-03T08:01:17.687107Z",
     "iopub.status.busy": "2024-07-03T08:01:17.686680Z",
     "iopub.status.idle": "2024-07-03T08:01:18.779956Z",
     "shell.execute_reply": "2024-07-03T08:01:18.778517Z"
    },
    "papermill": {
     "duration": 1.106851,
     "end_time": "2024-07-03T08:01:18.782895",
     "exception": false,
     "start_time": "2024-07-03T08:01:17.676044",
     "status": "completed"
    },
    "tags": []
   },
   "outputs": [
    {
     "name": "stdout",
     "output_type": "stream",
     "text": [
      "/kaggle/input/icc-mens-t20-worldcup/ICC Mens T20 Worldcup.csv\n"
     ]
    }
   ],
   "source": [
    "# This Python 3 environment comes with many helpful analytics libraries installed\n",
    "# It is defined by the kaggle/python Docker image: https://github.com/kaggle/docker-python\n",
    "# For example, here's several helpful packages to load\n",
    "\n",
    "import numpy as np # linear algebra\n",
    "import pandas as pd # data processing, CSV file I/O (e.g. pd.read_csv)\n",
    "\n",
    "# Input data files are available in the read-only \"../input/\" directory\n",
    "# For example, running this (by clicking run or pressing Shift+Enter) will list all files under the input directory\n",
    "\n",
    "import os\n",
    "for dirname, _, filenames in os.walk('/kaggle/input'):\n",
    "    for filename in filenames:\n",
    "        print(os.path.join(dirname, filename))\n",
    "\n",
    "# You can write up to 20GB to the current directory (/kaggle/working/) that gets preserved as output when you create a version using \"Save & Run All\" \n",
    "# You can also write temporary files to /kaggle/temp/, but they won't be saved outside of the current session"
   ]
  },
  {
   "cell_type": "code",
   "execution_count": 2,
   "id": "16caa23b",
   "metadata": {
    "execution": {
     "iopub.execute_input": "2024-07-03T08:01:18.801814Z",
     "iopub.status.busy": "2024-07-03T08:01:18.801272Z",
     "iopub.status.idle": "2024-07-03T08:01:20.326918Z",
     "shell.execute_reply": "2024-07-03T08:01:20.325854Z"
    },
    "papermill": {
     "duration": 1.538091,
     "end_time": "2024-07-03T08:01:20.329586",
     "exception": false,
     "start_time": "2024-07-03T08:01:18.791495",
     "status": "completed"
    },
    "tags": []
   },
   "outputs": [],
   "source": [
    "import seaborn as sns\n",
    "import matplotlib.pyplot as plt"
   ]
  },
  {
   "cell_type": "code",
   "execution_count": 3,
   "id": "a9eda581",
   "metadata": {
    "execution": {
     "iopub.execute_input": "2024-07-03T08:01:20.348956Z",
     "iopub.status.busy": "2024-07-03T08:01:20.348531Z",
     "iopub.status.idle": "2024-07-03T08:01:20.402548Z",
     "shell.execute_reply": "2024-07-03T08:01:20.401183Z"
    },
    "papermill": {
     "duration": 0.066901,
     "end_time": "2024-07-03T08:01:20.405114",
     "exception": false,
     "start_time": "2024-07-03T08:01:20.338213",
     "status": "completed"
    },
    "tags": []
   },
   "outputs": [
    {
     "data": {
      "text/html": [
       "<div>\n",
       "<style scoped>\n",
       "    .dataframe tbody tr th:only-of-type {\n",
       "        vertical-align: middle;\n",
       "    }\n",
       "\n",
       "    .dataframe tbody tr th {\n",
       "        vertical-align: top;\n",
       "    }\n",
       "\n",
       "    .dataframe thead th {\n",
       "        text-align: right;\n",
       "    }\n",
       "</style>\n",
       "<table border=\"1\" class=\"dataframe\">\n",
       "  <thead>\n",
       "    <tr style=\"text-align: right;\">\n",
       "      <th></th>\n",
       "      <th>Match No.</th>\n",
       "      <th>Date</th>\n",
       "      <th>Venue</th>\n",
       "      <th>1st Team</th>\n",
       "      <th>2nd Team</th>\n",
       "      <th>Stage</th>\n",
       "      <th>Toss Winning</th>\n",
       "      <th>Toss Decision</th>\n",
       "      <th>First Innings Score</th>\n",
       "      <th>Fall of wickets First Innings</th>\n",
       "      <th>...</th>\n",
       "      <th>Winners</th>\n",
       "      <th>Method</th>\n",
       "      <th>Won by</th>\n",
       "      <th>Winning Margin</th>\n",
       "      <th>Top Scorer</th>\n",
       "      <th>Highest Score</th>\n",
       "      <th>Best Bowler</th>\n",
       "      <th>Best Bowler Figure(Wickets Taken)</th>\n",
       "      <th>Best Bowler Figure(Runs Recieved)</th>\n",
       "      <th>Player Of The Match</th>\n",
       "    </tr>\n",
       "  </thead>\n",
       "  <tbody>\n",
       "    <tr>\n",
       "      <th>48</th>\n",
       "      <td>49th</td>\n",
       "      <td>Sunday,June 23,2024</td>\n",
       "      <td>Kensington Oval, Bridgetown, Barbados</td>\n",
       "      <td>United State Of America</td>\n",
       "      <td>England</td>\n",
       "      <td>Group 2</td>\n",
       "      <td>England</td>\n",
       "      <td>Fielding</td>\n",
       "      <td>115</td>\n",
       "      <td>10</td>\n",
       "      <td>...</td>\n",
       "      <td>England</td>\n",
       "      <td>Normal Match</td>\n",
       "      <td>Wickets</td>\n",
       "      <td>10</td>\n",
       "      <td>Jos Buttler</td>\n",
       "      <td>83</td>\n",
       "      <td>Adil Rashid</td>\n",
       "      <td>2</td>\n",
       "      <td>13</td>\n",
       "      <td>Adil Rashid</td>\n",
       "    </tr>\n",
       "    <tr>\n",
       "      <th>19</th>\n",
       "      <td>20th</td>\n",
       "      <td>Sunday,June 9,2024</td>\n",
       "      <td>Sir Vivian Richards Stadium, North Sound, Antigua</td>\n",
       "      <td>Oman</td>\n",
       "      <td>Scotland</td>\n",
       "      <td>Group B</td>\n",
       "      <td>Oman</td>\n",
       "      <td>Batting</td>\n",
       "      <td>150</td>\n",
       "      <td>7</td>\n",
       "      <td>...</td>\n",
       "      <td>Scotland</td>\n",
       "      <td>Normal Match</td>\n",
       "      <td>Wickets</td>\n",
       "      <td>7</td>\n",
       "      <td>Brandon McMullen</td>\n",
       "      <td>31</td>\n",
       "      <td>Chris Greaves</td>\n",
       "      <td>1</td>\n",
       "      <td>2</td>\n",
       "      <td>Brandon McMullen</td>\n",
       "    </tr>\n",
       "  </tbody>\n",
       "</table>\n",
       "<p>2 rows × 22 columns</p>\n",
       "</div>"
      ],
      "text/plain": [
       "   Match No.                 Date  \\\n",
       "48      49th  Sunday,June 23,2024   \n",
       "19      20th   Sunday,June 9,2024   \n",
       "\n",
       "                                                Venue  \\\n",
       "48              Kensington Oval, Bridgetown, Barbados   \n",
       "19  Sir Vivian Richards Stadium, North Sound, Antigua   \n",
       "\n",
       "                   1st Team  2nd Team    Stage Toss Winning Toss Decision  \\\n",
       "48  United State Of America   England  Group 2      England      Fielding   \n",
       "19                     Oman  Scotland  Group B         Oman       Batting   \n",
       "\n",
       "   First Innings Score Fall of wickets First Innings  ...   Winners  \\\n",
       "48                 115                            10  ...   England   \n",
       "19                 150                             7  ...  Scotland   \n",
       "\n",
       "          Method   Won by Winning Margin        Top Scorer Highest Score  \\\n",
       "48  Normal Match  Wickets             10       Jos Buttler            83   \n",
       "19  Normal Match  Wickets              7  Brandon McMullen            31   \n",
       "\n",
       "      Best Bowler Best Bowler Figure(Wickets Taken)  \\\n",
       "48    Adil Rashid                                 2   \n",
       "19  Chris Greaves                                 1   \n",
       "\n",
       "   Best Bowler Figure(Runs Recieved) Player Of The Match  \n",
       "48                                13         Adil Rashid  \n",
       "19                                 2    Brandon McMullen  \n",
       "\n",
       "[2 rows x 22 columns]"
      ]
     },
     "execution_count": 3,
     "metadata": {},
     "output_type": "execute_result"
    }
   ],
   "source": [
    "df=pd.read_csv(\"/kaggle/input/icc-mens-t20-worldcup/ICC Mens T20 Worldcup.csv\")\n",
    "df.sample(2)"
   ]
  },
  {
   "cell_type": "code",
   "execution_count": 4,
   "id": "b7bbe284",
   "metadata": {
    "execution": {
     "iopub.execute_input": "2024-07-03T08:01:20.425192Z",
     "iopub.status.busy": "2024-07-03T08:01:20.424772Z",
     "iopub.status.idle": "2024-07-03T08:01:20.450963Z",
     "shell.execute_reply": "2024-07-03T08:01:20.449699Z"
    },
    "papermill": {
     "duration": 0.039031,
     "end_time": "2024-07-03T08:01:20.453603",
     "exception": false,
     "start_time": "2024-07-03T08:01:20.414572",
     "status": "completed"
    },
    "tags": []
   },
   "outputs": [
    {
     "name": "stdout",
     "output_type": "stream",
     "text": [
      "<class 'pandas.core.frame.DataFrame'>\n",
      "RangeIndex: 55 entries, 0 to 54\n",
      "Data columns (total 22 columns):\n",
      " #   Column                             Non-Null Count  Dtype \n",
      "---  ------                             --------------  ----- \n",
      " 0   Match No.                          55 non-null     object\n",
      " 1   Date                               55 non-null     object\n",
      " 2   Venue                              55 non-null     object\n",
      " 3   1st Team                           55 non-null     object\n",
      " 4   2nd Team                           55 non-null     object\n",
      " 5   Stage                              55 non-null     object\n",
      " 6   Toss Winning                       55 non-null     object\n",
      " 7   Toss Decision                      55 non-null     object\n",
      " 8   First Innings Score                55 non-null     object\n",
      " 9   Fall of wickets First Innings      55 non-null     object\n",
      " 10  Second Innings Score               55 non-null     object\n",
      " 11  Fall of wickets Second Innings     55 non-null     object\n",
      " 12  Winners                            55 non-null     object\n",
      " 13  Method                             55 non-null     object\n",
      " 14  Won by                             55 non-null     object\n",
      " 15  Winning Margin                     55 non-null     object\n",
      " 16  Top Scorer                         55 non-null     object\n",
      " 17  Highest Score                      55 non-null     object\n",
      " 18  Best Bowler                        55 non-null     object\n",
      " 19  Best Bowler Figure(Wickets Taken)  55 non-null     object\n",
      " 20  Best Bowler Figure(Runs Recieved)  55 non-null     object\n",
      " 21  Player Of The Match                55 non-null     object\n",
      "dtypes: object(22)\n",
      "memory usage: 9.6+ KB\n"
     ]
    }
   ],
   "source": [
    "df.info()"
   ]
  },
  {
   "cell_type": "markdown",
   "id": "12920116",
   "metadata": {
    "papermill": {
     "duration": 0.008602,
     "end_time": "2024-07-03T08:01:20.471128",
     "exception": false,
     "start_time": "2024-07-03T08:01:20.462526",
     "status": "completed"
    },
    "tags": []
   },
   "source": [
    "**Datatype of each column is object so need to deal with it.**"
   ]
  },
  {
   "cell_type": "code",
   "execution_count": 5,
   "id": "8b135c3e",
   "metadata": {
    "execution": {
     "iopub.execute_input": "2024-07-03T08:01:20.490763Z",
     "iopub.status.busy": "2024-07-03T08:01:20.490372Z",
     "iopub.status.idle": "2024-07-03T08:01:20.542975Z",
     "shell.execute_reply": "2024-07-03T08:01:20.541847Z"
    },
    "papermill": {
     "duration": 0.06545,
     "end_time": "2024-07-03T08:01:20.545589",
     "exception": false,
     "start_time": "2024-07-03T08:01:20.480139",
     "status": "completed"
    },
    "tags": []
   },
   "outputs": [
    {
     "data": {
      "text/html": [
       "<div>\n",
       "<style scoped>\n",
       "    .dataframe tbody tr th:only-of-type {\n",
       "        vertical-align: middle;\n",
       "    }\n",
       "\n",
       "    .dataframe tbody tr th {\n",
       "        vertical-align: top;\n",
       "    }\n",
       "\n",
       "    .dataframe thead th {\n",
       "        text-align: right;\n",
       "    }\n",
       "</style>\n",
       "<table border=\"1\" class=\"dataframe\">\n",
       "  <thead>\n",
       "    <tr style=\"text-align: right;\">\n",
       "      <th></th>\n",
       "      <th>Match No.</th>\n",
       "      <th>Date</th>\n",
       "      <th>Venue</th>\n",
       "      <th>1st Team</th>\n",
       "      <th>2nd Team</th>\n",
       "      <th>Stage</th>\n",
       "      <th>Toss Winning</th>\n",
       "      <th>Toss Decision</th>\n",
       "      <th>First Innings Score</th>\n",
       "      <th>Fall of wickets First Innings</th>\n",
       "      <th>...</th>\n",
       "      <th>Winners</th>\n",
       "      <th>Method</th>\n",
       "      <th>Won by</th>\n",
       "      <th>Winning Margin</th>\n",
       "      <th>Top Scorer</th>\n",
       "      <th>Highest Score</th>\n",
       "      <th>Best Bowler</th>\n",
       "      <th>Best Bowler Figure(Wickets Taken)</th>\n",
       "      <th>Best Bowler Figure(Runs Recieved)</th>\n",
       "      <th>Player Of The Match</th>\n",
       "    </tr>\n",
       "  </thead>\n",
       "  <tbody>\n",
       "    <tr>\n",
       "      <th>count</th>\n",
       "      <td>55</td>\n",
       "      <td>55</td>\n",
       "      <td>55</td>\n",
       "      <td>55</td>\n",
       "      <td>55</td>\n",
       "      <td>55</td>\n",
       "      <td>55</td>\n",
       "      <td>55</td>\n",
       "      <td>55</td>\n",
       "      <td>55</td>\n",
       "      <td>...</td>\n",
       "      <td>55</td>\n",
       "      <td>55</td>\n",
       "      <td>55</td>\n",
       "      <td>55</td>\n",
       "      <td>55</td>\n",
       "      <td>55</td>\n",
       "      <td>55</td>\n",
       "      <td>55</td>\n",
       "      <td>55</td>\n",
       "      <td>55</td>\n",
       "    </tr>\n",
       "    <tr>\n",
       "      <th>unique</th>\n",
       "      <td>55</td>\n",
       "      <td>26</td>\n",
       "      <td>9</td>\n",
       "      <td>19</td>\n",
       "      <td>18</td>\n",
       "      <td>9</td>\n",
       "      <td>19</td>\n",
       "      <td>3</td>\n",
       "      <td>41</td>\n",
       "      <td>9</td>\n",
       "      <td>...</td>\n",
       "      <td>17</td>\n",
       "      <td>3</td>\n",
       "      <td>3</td>\n",
       "      <td>29</td>\n",
       "      <td>39</td>\n",
       "      <td>38</td>\n",
       "      <td>41</td>\n",
       "      <td>8</td>\n",
       "      <td>28</td>\n",
       "      <td>44</td>\n",
       "    </tr>\n",
       "    <tr>\n",
       "      <th>top</th>\n",
       "      <td>1st</td>\n",
       "      <td>Friday,June 14,2024</td>\n",
       "      <td>Kensington Oval, Bridgetown, Barbados</td>\n",
       "      <td>India</td>\n",
       "      <td>England</td>\n",
       "      <td>Group A</td>\n",
       "      <td>England</td>\n",
       "      <td>Fielding</td>\n",
       "      <td>106</td>\n",
       "      <td>10</td>\n",
       "      <td>...</td>\n",
       "      <td>South Africa</td>\n",
       "      <td>Normal Match</td>\n",
       "      <td>Runs</td>\n",
       "      <td>7</td>\n",
       "      <td>Rain</td>\n",
       "      <td>Rain</td>\n",
       "      <td>Rain</td>\n",
       "      <td>3</td>\n",
       "      <td>16</td>\n",
       "      <td>Rain</td>\n",
       "    </tr>\n",
       "    <tr>\n",
       "      <th>freq</th>\n",
       "      <td>1</td>\n",
       "      <td>3</td>\n",
       "      <td>9</td>\n",
       "      <td>6</td>\n",
       "      <td>7</td>\n",
       "      <td>11</td>\n",
       "      <td>6</td>\n",
       "      <td>42</td>\n",
       "      <td>4</td>\n",
       "      <td>16</td>\n",
       "      <td>...</td>\n",
       "      <td>8</td>\n",
       "      <td>48</td>\n",
       "      <td>26</td>\n",
       "      <td>9</td>\n",
       "      <td>4</td>\n",
       "      <td>4</td>\n",
       "      <td>4</td>\n",
       "      <td>25</td>\n",
       "      <td>6</td>\n",
       "      <td>4</td>\n",
       "    </tr>\n",
       "  </tbody>\n",
       "</table>\n",
       "<p>4 rows × 22 columns</p>\n",
       "</div>"
      ],
      "text/plain": [
       "       Match No.                 Date                                  Venue  \\\n",
       "count         55                   55                                     55   \n",
       "unique        55                   26                                      9   \n",
       "top          1st  Friday,June 14,2024  Kensington Oval, Bridgetown, Barbados   \n",
       "freq           1                    3                                      9   \n",
       "\n",
       "       1st Team 2nd Team    Stage Toss Winning Toss Decision  \\\n",
       "count        55       55       55           55            55   \n",
       "unique       19       18        9           19             3   \n",
       "top       India  England  Group A      England      Fielding   \n",
       "freq          6        7       11            6            42   \n",
       "\n",
       "       First Innings Score Fall of wickets First Innings  ...       Winners  \\\n",
       "count                   55                            55  ...            55   \n",
       "unique                  41                             9  ...            17   \n",
       "top                    106                            10  ...  South Africa   \n",
       "freq                     4                            16  ...             8   \n",
       "\n",
       "              Method Won by Winning Margin Top Scorer Highest Score  \\\n",
       "count             55     55             55         55            55   \n",
       "unique             3      3             29         39            38   \n",
       "top     Normal Match   Runs              7       Rain          Rain   \n",
       "freq              48     26              9          4             4   \n",
       "\n",
       "       Best Bowler Best Bowler Figure(Wickets Taken)  \\\n",
       "count           55                                55   \n",
       "unique          41                                 8   \n",
       "top           Rain                                 3   \n",
       "freq             4                                25   \n",
       "\n",
       "       Best Bowler Figure(Runs Recieved) Player Of The Match  \n",
       "count                                 55                  55  \n",
       "unique                                28                  44  \n",
       "top                                   16                Rain  \n",
       "freq                                   6                   4  \n",
       "\n",
       "[4 rows x 22 columns]"
      ]
     },
     "execution_count": 5,
     "metadata": {},
     "output_type": "execute_result"
    }
   ],
   "source": [
    "df.describe()"
   ]
  },
  {
   "cell_type": "code",
   "execution_count": 6,
   "id": "2a47579e",
   "metadata": {
    "execution": {
     "iopub.execute_input": "2024-07-03T08:01:20.566576Z",
     "iopub.status.busy": "2024-07-03T08:01:20.566165Z",
     "iopub.status.idle": "2024-07-03T08:01:20.577390Z",
     "shell.execute_reply": "2024-07-03T08:01:20.576228Z"
    },
    "papermill": {
     "duration": 0.025428,
     "end_time": "2024-07-03T08:01:20.580631",
     "exception": false,
     "start_time": "2024-07-03T08:01:20.555203",
     "status": "completed"
    },
    "tags": []
   },
   "outputs": [
    {
     "name": "stdout",
     "output_type": "stream",
     "text": [
      "Total Stadium Count 9\n"
     ]
    },
    {
     "data": {
      "text/plain": [
       "Venue\n",
       "Kensington Oval, Bridgetown, Barbados                            9\n",
       "Nassau County International Cricket Stadium, New York            8\n",
       "Sir Vivian Richards Stadium, North Sound, Antigua                8\n",
       "Providence Stadium, Guyana                                       6\n",
       "Daren Sammy National Cricket Stadium, Gros Islet, St Lucia       6\n",
       "Brian Lara Stadium, Tarouba, Trinidad                            5\n",
       "Arnos Vale Ground, Kingstown, St Vincent                         5\n",
       "Grand Prairie Stadium, Dallas                                    4\n",
       "Central Broward Regional Park Stadium Turf Ground, Lauderhill    4\n",
       "Name: count, dtype: int64"
      ]
     },
     "execution_count": 6,
     "metadata": {},
     "output_type": "execute_result"
    }
   ],
   "source": [
    "print(\"Total Stadium Count\",len(df['Venue'].value_counts()))\n",
    "stadiums=df['Venue'].value_counts()\n",
    "stadiums"
   ]
  },
  {
   "cell_type": "markdown",
   "id": "5bdc2357",
   "metadata": {
    "papermill": {
     "duration": 0.009427,
     "end_time": "2024-07-03T08:01:20.600042",
     "exception": false,
     "start_time": "2024-07-03T08:01:20.590615",
     "status": "completed"
    },
    "tags": []
   },
   "source": [
    "**The ICC Men's T20 World Cup was played across 9 stadiums.**"
   ]
  },
  {
   "cell_type": "code",
   "execution_count": 7,
   "id": "584b51ad",
   "metadata": {
    "execution": {
     "iopub.execute_input": "2024-07-03T08:01:20.620936Z",
     "iopub.status.busy": "2024-07-03T08:01:20.620515Z",
     "iopub.status.idle": "2024-07-03T08:01:20.627935Z",
     "shell.execute_reply": "2024-07-03T08:01:20.626898Z"
    },
    "papermill": {
     "duration": 0.021135,
     "end_time": "2024-07-03T08:01:20.630678",
     "exception": false,
     "start_time": "2024-07-03T08:01:20.609543",
     "status": "completed"
    },
    "tags": []
   },
   "outputs": [
    {
     "data": {
      "text/plain": [
       "Index(['Match No.', 'Date', 'Venue', '1st Team', '2nd Team', 'Stage',\n",
       "       'Toss Winning', 'Toss Decision', 'First Innings Score',\n",
       "       'Fall of wickets First Innings', 'Second Innings Score',\n",
       "       'Fall of wickets Second Innings', 'Winners', 'Method', 'Won by',\n",
       "       'Winning Margin', 'Top Scorer', 'Highest Score', 'Best Bowler',\n",
       "       'Best Bowler Figure(Wickets Taken)',\n",
       "       'Best Bowler Figure(Runs Recieved)', 'Player Of The Match'],\n",
       "      dtype='object')"
      ]
     },
     "execution_count": 7,
     "metadata": {},
     "output_type": "execute_result"
    }
   ],
   "source": [
    "df.columns"
   ]
  },
  {
   "cell_type": "code",
   "execution_count": 8,
   "id": "2bf4091b",
   "metadata": {
    "execution": {
     "iopub.execute_input": "2024-07-03T08:01:20.653403Z",
     "iopub.status.busy": "2024-07-03T08:01:20.652995Z",
     "iopub.status.idle": "2024-07-03T08:01:20.669654Z",
     "shell.execute_reply": "2024-07-03T08:01:20.667982Z"
    },
    "papermill": {
     "duration": 0.030708,
     "end_time": "2024-07-03T08:01:20.672324",
     "exception": false,
     "start_time": "2024-07-03T08:01:20.641616",
     "status": "completed"
    },
    "tags": []
   },
   "outputs": [
    {
     "data": {
      "text/plain": [
       "Venue\n",
       "Central Broward Regional Park Stadium Turf Ground, Lauderhill    75.000000\n",
       "Kensington Oval, Bridgetown, Barbados                            11.111111\n",
       "Name: count, dtype: float64"
      ]
     },
     "execution_count": 8,
     "metadata": {},
     "output_type": "execute_result"
    }
   ],
   "source": [
    "rain_count_on_stdum=df[df['Method']=='Rain']['Venue'].value_counts()\n",
    "rain_count_on_stdum\n",
    "((rain_count_on_stdum*100)/stadiums).dropna()"
   ]
  },
  {
   "cell_type": "markdown",
   "id": "11b351f1",
   "metadata": {
    "papermill": {
     "duration": 0.009556,
     "end_time": "2024-07-03T08:01:20.691897",
     "exception": false,
     "start_time": "2024-07-03T08:01:20.682341",
     "status": "completed"
    },
    "tags": []
   },
   "source": [
    "**75% of the matches played in Lauderhill were declared by rain.**"
   ]
  },
  {
   "cell_type": "code",
   "execution_count": 9,
   "id": "1771a2bc",
   "metadata": {
    "execution": {
     "iopub.execute_input": "2024-07-03T08:01:20.714394Z",
     "iopub.status.busy": "2024-07-03T08:01:20.713936Z",
     "iopub.status.idle": "2024-07-03T08:01:21.508335Z",
     "shell.execute_reply": "2024-07-03T08:01:21.507113Z"
    },
    "papermill": {
     "duration": 0.808404,
     "end_time": "2024-07-03T08:01:21.510960",
     "exception": false,
     "start_time": "2024-07-03T08:01:20.702556",
     "status": "completed"
    },
    "tags": []
   },
   "outputs": [
    {
     "data": {
      "image/png": "[encoded data removed]",
      "text/plain": [
       "<Figure size 1400x600 with 1 Axes>"
      ]
     },
     "metadata": {},
     "output_type": "display_data"
    }
   ],
   "source": [
    "player_of_match_tournmnt=pd.DataFrame(df['Player Of The Match'].value_counts().drop('Rain',axis=0).reset_index())\n",
    "player_of_match_tournmnt=player_of_match_tournmnt[player_of_match_tournmnt['count']>=2]\n",
    "player_of_match_tournmnt=pd.merge(player_of_match_tournmnt,df[['Winners','Player Of The Match']],on='Player Of The Match',how='inner').drop_duplicates(\"Player Of The Match\",keep='first').reset_index().drop(['index'],axis=1)\n",
    "(player_of_match_tournmnt.rename({'Winners':\"Country\"},axis=1,inplace=True))\n",
    "player_of_match_tournmnt.index = range(1, len(player_of_match_tournmnt) + 1)\n",
    "plt.figure(figsize=(14,6))\n",
    "sns.barplot(data=player_of_match_tournmnt,x='Player Of The Match',y='count',hue='Country')\n",
    "plt.title('Player Of The Match')\n",
    "plt.xlabel('Name of Player')\n",
    "plt.ylabel('Num of times won')\n",
    "plt.show()"
   ]
  },
  {
   "cell_type": "code",
   "execution_count": 10,
   "id": "c09b5fba",
   "metadata": {
    "execution": {
     "iopub.execute_input": "2024-07-03T08:01:21.534621Z",
     "iopub.status.busy": "2024-07-03T08:01:21.534209Z",
     "iopub.status.idle": "2024-07-03T08:01:21.543878Z",
     "shell.execute_reply": "2024-07-03T08:01:21.542381Z"
    },
    "papermill": {
     "duration": 0.024894,
     "end_time": "2024-07-03T08:01:21.546862",
     "exception": false,
     "start_time": "2024-07-03T08:01:21.521968",
     "status": "completed"
    },
    "tags": []
   },
   "outputs": [
    {
     "data": {
      "text/plain": [
       "56.36363636363637"
      ]
     },
     "execution_count": 10,
     "metadata": {},
     "output_type": "execute_result"
    }
   ],
   "source": [
    "len(df[df['Toss Winning']==df['Winners']])*100/len(df)"
   ]
  },
  {
   "cell_type": "markdown",
   "id": "4f780858",
   "metadata": {
    "papermill": {
     "duration": 0.011018,
     "end_time": "2024-07-03T08:01:21.569358",
     "exception": false,
     "start_time": "2024-07-03T08:01:21.558340",
     "status": "completed"
    },
    "tags": []
   },
   "source": [
    "**In this ICC tournment, toss have't played an important role as there were just 56% probabilty of winning after winning the toss. There's 50% chances as usual of winning so dosent make much difference.** "
   ]
  },
  {
   "cell_type": "code",
   "execution_count": 11,
   "id": "4baf22c9",
   "metadata": {
    "execution": {
     "iopub.execute_input": "2024-07-03T08:01:21.593133Z",
     "iopub.status.busy": "2024-07-03T08:01:21.592711Z",
     "iopub.status.idle": "2024-07-03T08:01:21.605218Z",
     "shell.execute_reply": "2024-07-03T08:01:21.604127Z"
    },
    "papermill": {
     "duration": 0.027449,
     "end_time": "2024-07-03T08:01:21.607682",
     "exception": false,
     "start_time": "2024-07-03T08:01:21.580233",
     "status": "completed"
    },
    "tags": []
   },
   "outputs": [
    {
     "data": {
      "text/plain": [
       "20"
      ]
     },
     "execution_count": 11,
     "metadata": {},
     "output_type": "execute_result"
    }
   ],
   "source": [
    "total_teams=[]\n",
    "without_rn=df[~(df['Winners']=='Rain')]\n",
    "tot1=pd.DataFrame(without_rn['1st Team'].value_counts())\n",
    "tot2=pd.DataFrame(without_rn['2nd Team'].value_counts())\n",
    "tot1.index,tot2.index\n",
    "[total_teams.append(x) for x in tot1.index]\n",
    "[total_teams.append(x) for x in tot2.index]\n",
    "total_teams_index=set(total_teams)\n",
    "len(total_teams_index)"
   ]
  },
  {
   "cell_type": "markdown",
   "id": "92ead84e",
   "metadata": {
    "papermill": {
     "duration": 0.010681,
     "end_time": "2024-07-03T08:01:21.629788",
     "exception": false,
     "start_time": "2024-07-03T08:01:21.619107",
     "status": "completed"
    },
    "tags": []
   },
   "source": [
    "**Total 20 teams participated in the tournment**"
   ]
  },
  {
   "cell_type": "code",
   "execution_count": 12,
   "id": "92e0bc91",
   "metadata": {
    "execution": {
     "iopub.execute_input": "2024-07-03T08:01:21.653685Z",
     "iopub.status.busy": "2024-07-03T08:01:21.653293Z",
     "iopub.status.idle": "2024-07-03T08:01:22.001850Z",
     "shell.execute_reply": "2024-07-03T08:01:22.000633Z"
    },
    "papermill": {
     "duration": 0.364028,
     "end_time": "2024-07-03T08:01:22.004696",
     "exception": false,
     "start_time": "2024-07-03T08:01:21.640668",
     "status": "completed"
    },
    "tags": []
   },
   "outputs": [
    {
     "data": {
      "image/png": "[encoded data removed]",
      "text/plain": [
       "<Figure size 1000x600 with 1 Axes>"
      ]
     },
     "metadata": {},
     "output_type": "display_data"
    }
   ],
   "source": [
    "win_participate=pd.DataFrame(without_rn[\"Winners\"].value_counts())\n",
    "participation=tot1.add(tot2,fill_value=0).astype(int)\n",
    "win_percentage=(win_participate*100).divide(participation,fill_value=0).sort_values('count',ascending=False)\n",
    "win_percentage\n",
    "plt.figure(figsize=(10,6))\n",
    "barplot=sns.barplot(data=win_percentage.iloc[0:7,:],x=win_percentage.iloc[0:7,:].index,y='count')\n",
    "for index, value in enumerate(win_percentage.iloc[0:7]['count']):\n",
    "    barplot.text(index, value + 0.5, f'{value:.2f}%', ha='center', va='bottom', fontsize=10)\n",
    "plt.title(\"Win Percentage\")\n",
    "plt.xlabel('Country Name')\n",
    "plt.ylabel('Percentage')\n",
    "plt.show()"
   ]
  },
  {
   "cell_type": "markdown",
   "id": "6cc06bd5",
   "metadata": {
    "papermill": {
     "duration": 0.012071,
     "end_time": "2024-07-03T08:01:22.028813",
     "exception": false,
     "start_time": "2024-07-03T08:01:22.016742",
     "status": "completed"
    },
    "tags": []
   },
   "source": [
    "**India has won all the matches they have played**"
   ]
  },
  {
   "cell_type": "code",
   "execution_count": 13,
   "id": "421e0913",
   "metadata": {
    "execution": {
     "iopub.execute_input": "2024-07-03T08:01:22.054776Z",
     "iopub.status.busy": "2024-07-03T08:01:22.054007Z",
     "iopub.status.idle": "2024-07-03T08:01:22.065585Z",
     "shell.execute_reply": "2024-07-03T08:01:22.064212Z"
    },
    "papermill": {
     "duration": 0.02735,
     "end_time": "2024-07-03T08:01:22.068452",
     "exception": false,
     "start_time": "2024-07-03T08:01:22.041102",
     "status": "completed"
    },
    "tags": []
   },
   "outputs": [
    {
     "name": "stdout",
     "output_type": "stream",
     "text": [
      "Total Runs:  12806 \n",
      "Average Runs per Match:  126 \n",
      "Total Wickets:  680 \n",
      "Average Wickets per Match:  7\n"
     ]
    }
   ],
   "source": [
    "total_runs=without_rn['First Innings Score'].astype(int).sum()+without_rn['Second Innings Score'].astype(int).sum()\n",
    "average_runs_per_match=total_runs/(len(without_rn['First Innings Score'])+len(without_rn['Second Innings Score']))\n",
    "total_wickets=without_rn['Fall of wickets First Innings'].astype(int).sum()+without_rn['Fall of wickets Second Innings'].astype(int).sum()\n",
    "average_wickets_per_match=total_wickets/(len(without_rn['Fall of wickets First Innings'])+len(without_rn['Fall of wickets Second Innings']))\n",
    "print(\"Total Runs: \",total_runs,\"\\nAverage Runs per Match: \",int(np.ceil(average_runs_per_match)),\"\\nTotal Wickets: \",total_wickets,\"\\nAverage Wickets per Match: \",int(np.ceil(average_wickets_per_match)))"
   ]
  },
  {
   "cell_type": "markdown",
   "id": "ee78cdcc",
   "metadata": {
    "papermill": {
     "duration": 0.011263,
     "end_time": "2024-07-03T08:01:22.091603",
     "exception": false,
     "start_time": "2024-07-03T08:01:22.080340",
     "status": "completed"
    },
    "tags": []
   },
   "source": [
    "**This T20 World Cup was dominated by bowlers as Average Runs per match were close to just 126 runs while per match wickets were 7.** "
   ]
  },
  {
   "cell_type": "code",
   "execution_count": 14,
   "id": "2c68fd79",
   "metadata": {
    "execution": {
     "iopub.execute_input": "2024-07-03T08:01:22.116785Z",
     "iopub.status.busy": "2024-07-03T08:01:22.116362Z",
     "iopub.status.idle": "2024-07-03T08:01:22.125685Z",
     "shell.execute_reply": "2024-07-03T08:01:22.124562Z"
    },
    "papermill": {
     "duration": 0.025179,
     "end_time": "2024-07-03T08:01:22.128352",
     "exception": false,
     "start_time": "2024-07-03T08:01:22.103173",
     "status": "completed"
    },
    "tags": []
   },
   "outputs": [
    {
     "data": {
      "text/plain": [
       "Won by\n",
       "Runs       26\n",
       "Wickets    25\n",
       "Name: count, dtype: int64"
      ]
     },
     "execution_count": 14,
     "metadata": {},
     "output_type": "execute_result"
    }
   ],
   "source": [
    "without_rn['Won by'].value_counts()"
   ]
  },
  {
   "cell_type": "code",
   "execution_count": 15,
   "id": "c414a740",
   "metadata": {
    "execution": {
     "iopub.execute_input": "2024-07-03T08:01:22.155394Z",
     "iopub.status.busy": "2024-07-03T08:01:22.154964Z",
     "iopub.status.idle": "2024-07-03T08:01:22.165187Z",
     "shell.execute_reply": "2024-07-03T08:01:22.164011Z"
    },
    "papermill": {
     "duration": 0.0262,
     "end_time": "2024-07-03T08:01:22.167638",
     "exception": false,
     "start_time": "2024-07-03T08:01:22.141438",
     "status": "completed"
    },
    "tags": []
   },
   "outputs": [
    {
     "name": "stdout",
     "output_type": "stream",
     "text": [
      "Average Runs difference of winning:  39 \n",
      "Average Wickets difference of winning:  7\n"
     ]
    }
   ],
   "source": [
    "run_wins=without_rn[without_rn['Won by']=='Runs']\n",
    "avg_runs_won_by=run_wins['Winning Margin'].astype(int).mean()\n",
    "run_wins=without_rn[without_rn['Won by']=='Wickets']\n",
    "avg_wickets_won_by=run_wins['Winning Margin'].astype(int).mean()\n",
    "print(\"Average Runs difference of winning: \",int(np.ceil(avg_runs_won_by)),\"\\nAverage Wickets difference of winning: \",int(np.ceil(avg_wickets_won_by)))"
   ]
  },
  {
   "cell_type": "code",
   "execution_count": 16,
   "id": "dd66de50",
   "metadata": {
    "execution": {
     "iopub.execute_input": "2024-07-03T08:01:22.193761Z",
     "iopub.status.busy": "2024-07-03T08:01:22.192925Z",
     "iopub.status.idle": "2024-07-03T08:01:22.531436Z",
     "shell.execute_reply": "2024-07-03T08:01:22.530145Z"
    },
    "papermill": {
     "duration": 0.355156,
     "end_time": "2024-07-03T08:01:22.535011",
     "exception": false,
     "start_time": "2024-07-03T08:01:22.179855",
     "status": "completed"
    },
    "tags": []
   },
   "outputs": [
    {
     "data": {
      "image/png": "[encoded data removed]",
      "text/plain": [
       "<Figure size 1100x500 with 1 Axes>"
      ]
     },
     "metadata": {},
     "output_type": "display_data"
    }
   ],
   "source": [
    "highest_run_score_per_match=without_rn.sort_values(\"Highest Score\",ascending=False)\n",
    "highest_run_score_per_match=highest_run_score_per_match.iloc[:7,[16,17]]\n",
    "highest_run_score_per_match['Highest Score']=highest_run_score_per_match['Highest Score'].astype(int)\n",
    "plt.figure(figsize=(11,5))\n",
    "highrunplot=sns.barplot(data=highest_run_score_per_match,x='Top Scorer',y='Highest Score')\n",
    "for index, value in enumerate(highest_run_score_per_match['Highest Score']):\n",
    "    highrunplot.text(index, value + 0.5, f'{value}', ha='center', va='bottom', fontsize=10)\n",
    "plt.title(\"Highest Runs in Single Match\")\n",
    "plt.xlabel('Name of Player')\n",
    "plt.ylim(50,105)\n",
    "plt.ylabel('Runs in single match')\n",
    "plt.show()"
   ]
  },
  {
   "cell_type": "code",
   "execution_count": 17,
   "id": "dcd16da7",
   "metadata": {
    "execution": {
     "iopub.execute_input": "2024-07-03T08:01:22.562585Z",
     "iopub.status.busy": "2024-07-03T08:01:22.561640Z",
     "iopub.status.idle": "2024-07-03T08:01:22.595859Z",
     "shell.execute_reply": "2024-07-03T08:01:22.594692Z"
    },
    "papermill": {
     "duration": 0.050891,
     "end_time": "2024-07-03T08:01:22.598762",
     "exception": false,
     "start_time": "2024-07-03T08:01:22.547871",
     "status": "completed"
    },
    "tags": []
   },
   "outputs": [
    {
     "data": {
      "text/html": [
       "<div>\n",
       "<style scoped>\n",
       "    .dataframe tbody tr th:only-of-type {\n",
       "        vertical-align: middle;\n",
       "    }\n",
       "\n",
       "    .dataframe tbody tr th {\n",
       "        vertical-align: top;\n",
       "    }\n",
       "\n",
       "    .dataframe thead th {\n",
       "        text-align: right;\n",
       "    }\n",
       "</style>\n",
       "<table border=\"1\" class=\"dataframe\">\n",
       "  <thead>\n",
       "    <tr style=\"text-align: right;\">\n",
       "      <th></th>\n",
       "      <th></th>\n",
       "      <th>count</th>\n",
       "      <th>total_played_matches</th>\n",
       "      <th>decision_on_toss_percentage</th>\n",
       "    </tr>\n",
       "    <tr>\n",
       "      <th>Venue</th>\n",
       "      <th>Toss Decision</th>\n",
       "      <th></th>\n",
       "      <th></th>\n",
       "      <th></th>\n",
       "    </tr>\n",
       "  </thead>\n",
       "  <tbody>\n",
       "    <tr>\n",
       "      <th rowspan=\"2\" valign=\"top\">Arnos Vale Ground, Kingstown, St Vincent</th>\n",
       "      <th>Fielding</th>\n",
       "      <td>4</td>\n",
       "      <td>5</td>\n",
       "      <td>80.00</td>\n",
       "    </tr>\n",
       "    <tr>\n",
       "      <th>Batting</th>\n",
       "      <td>1</td>\n",
       "      <td>5</td>\n",
       "      <td>20.00</td>\n",
       "    </tr>\n",
       "    <tr>\n",
       "      <th rowspan=\"2\" valign=\"top\">Brian Lara Stadium, Tarouba, Trinidad</th>\n",
       "      <th>Fielding</th>\n",
       "      <td>4</td>\n",
       "      <td>5</td>\n",
       "      <td>80.00</td>\n",
       "    </tr>\n",
       "    <tr>\n",
       "      <th>Batting</th>\n",
       "      <td>1</td>\n",
       "      <td>5</td>\n",
       "      <td>20.00</td>\n",
       "    </tr>\n",
       "    <tr>\n",
       "      <th>Central Broward Regional Park Stadium Turf Ground, Lauderhill</th>\n",
       "      <th>Fielding</th>\n",
       "      <td>1</td>\n",
       "      <td>1</td>\n",
       "      <td>100.00</td>\n",
       "    </tr>\n",
       "    <tr>\n",
       "      <th>Daren Sammy National Cricket Stadium, Gros Islet, St Lucia</th>\n",
       "      <th>Fielding</th>\n",
       "      <td>6</td>\n",
       "      <td>6</td>\n",
       "      <td>100.00</td>\n",
       "    </tr>\n",
       "    <tr>\n",
       "      <th>Grand Prairie Stadium, Dallas</th>\n",
       "      <th>Fielding</th>\n",
       "      <td>4</td>\n",
       "      <td>4</td>\n",
       "      <td>100.00</td>\n",
       "    </tr>\n",
       "    <tr>\n",
       "      <th rowspan=\"2\" valign=\"top\">Kensington Oval, Bridgetown, Barbados</th>\n",
       "      <th>Fielding</th>\n",
       "      <td>5</td>\n",
       "      <td>8</td>\n",
       "      <td>62.50</td>\n",
       "    </tr>\n",
       "    <tr>\n",
       "      <th>Batting</th>\n",
       "      <td>3</td>\n",
       "      <td>8</td>\n",
       "      <td>37.50</td>\n",
       "    </tr>\n",
       "    <tr>\n",
       "      <th rowspan=\"2\" valign=\"top\">Nassau County International Cricket Stadium, New York</th>\n",
       "      <th>Fielding</th>\n",
       "      <td>6</td>\n",
       "      <td>8</td>\n",
       "      <td>75.00</td>\n",
       "    </tr>\n",
       "    <tr>\n",
       "      <th>Batting</th>\n",
       "      <td>2</td>\n",
       "      <td>8</td>\n",
       "      <td>25.00</td>\n",
       "    </tr>\n",
       "    <tr>\n",
       "      <th rowspan=\"2\" valign=\"top\">Providence Stadium, Guyana</th>\n",
       "      <th>Fielding</th>\n",
       "      <td>5</td>\n",
       "      <td>6</td>\n",
       "      <td>83.33</td>\n",
       "    </tr>\n",
       "    <tr>\n",
       "      <th>Batting</th>\n",
       "      <td>1</td>\n",
       "      <td>6</td>\n",
       "      <td>16.67</td>\n",
       "    </tr>\n",
       "    <tr>\n",
       "      <th rowspan=\"2\" valign=\"top\">Sir Vivian Richards Stadium, North Sound, Antigua</th>\n",
       "      <th>Fielding</th>\n",
       "      <td>7</td>\n",
       "      <td>8</td>\n",
       "      <td>87.50</td>\n",
       "    </tr>\n",
       "    <tr>\n",
       "      <th>Batting</th>\n",
       "      <td>1</td>\n",
       "      <td>8</td>\n",
       "      <td>12.50</td>\n",
       "    </tr>\n",
       "  </tbody>\n",
       "</table>\n",
       "</div>"
      ],
      "text/plain": [
       "                                                                  count  \\\n",
       "Venue                                              Toss Decision          \n",
       "Arnos Vale Ground, Kingstown, St Vincent           Fielding           4   \n",
       "                                                   Batting            1   \n",
       "Brian Lara Stadium, Tarouba, Trinidad              Fielding           4   \n",
       "                                                   Batting            1   \n",
       "Central Broward Regional Park Stadium Turf Grou... Fielding           1   \n",
       "Daren Sammy National Cricket Stadium, Gros Isle... Fielding           6   \n",
       "Grand Prairie Stadium, Dallas                      Fielding           4   \n",
       "Kensington Oval, Bridgetown, Barbados              Fielding           5   \n",
       "                                                   Batting            3   \n",
       "Nassau County International Cricket Stadium, Ne... Fielding           6   \n",
       "                                                   Batting            2   \n",
       "Providence Stadium, Guyana                         Fielding           5   \n",
       "                                                   Batting            1   \n",
       "Sir Vivian Richards Stadium, North Sound, Antigua  Fielding           7   \n",
       "                                                   Batting            1   \n",
       "\n",
       "                                                                  total_played_matches  \\\n",
       "Venue                                              Toss Decision                         \n",
       "Arnos Vale Ground, Kingstown, St Vincent           Fielding                          5   \n",
       "                                                   Batting                           5   \n",
       "Brian Lara Stadium, Tarouba, Trinidad              Fielding                          5   \n",
       "                                                   Batting                           5   \n",
       "Central Broward Regional Park Stadium Turf Grou... Fielding                          1   \n",
       "Daren Sammy National Cricket Stadium, Gros Isle... Fielding                          6   \n",
       "Grand Prairie Stadium, Dallas                      Fielding                          4   \n",
       "Kensington Oval, Bridgetown, Barbados              Fielding                          8   \n",
       "                                                   Batting                           8   \n",
       "Nassau County International Cricket Stadium, Ne... Fielding                          8   \n",
       "                                                   Batting                           8   \n",
       "Providence Stadium, Guyana                         Fielding                          6   \n",
       "                                                   Batting                           6   \n",
       "Sir Vivian Richards Stadium, North Sound, Antigua  Fielding                          8   \n",
       "                                                   Batting                           8   \n",
       "\n",
       "                                                                  decision_on_toss_percentage  \n",
       "Venue                                              Toss Decision                               \n",
       "Arnos Vale Ground, Kingstown, St Vincent           Fielding                             80.00  \n",
       "                                                   Batting                              20.00  \n",
       "Brian Lara Stadium, Tarouba, Trinidad              Fielding                             80.00  \n",
       "                                                   Batting                              20.00  \n",
       "Central Broward Regional Park Stadium Turf Grou... Fielding                            100.00  \n",
       "Daren Sammy National Cricket Stadium, Gros Isle... Fielding                            100.00  \n",
       "Grand Prairie Stadium, Dallas                      Fielding                            100.00  \n",
       "Kensington Oval, Bridgetown, Barbados              Fielding                             62.50  \n",
       "                                                   Batting                              37.50  \n",
       "Nassau County International Cricket Stadium, Ne... Fielding                             75.00  \n",
       "                                                   Batting                              25.00  \n",
       "Providence Stadium, Guyana                         Fielding                             83.33  \n",
       "                                                   Batting                              16.67  \n",
       "Sir Vivian Richards Stadium, North Sound, Antigua  Fielding                             87.50  \n",
       "                                                   Batting                              12.50  "
      ]
     },
     "execution_count": 17,
     "metadata": {},
     "output_type": "execute_result"
    }
   ],
   "source": [
    "toss_by_ground=pd.DataFrame(without_rn.groupby('Venue')['Toss Decision'].value_counts())\n",
    "total_played_matches=[]\n",
    "for i in range(len(toss_by_ground)):\n",
    "    name=toss_by_ground.index[i][0]\n",
    "    total_played=toss_by_ground.loc[name]['count'].sum()\n",
    "    total_played_matches.append(total_played)\n",
    "toss_by_ground['total_played_matches']=total_played_matches\n",
    "toss_by_ground['decision_on_toss_percentage']=(toss_by_ground['count']*100/toss_by_ground['total_played_matches']).round(2)\n",
    "toss_by_ground"
   ]
  },
  {
   "cell_type": "code",
   "execution_count": 18,
   "id": "08c8d5cf",
   "metadata": {
    "execution": {
     "iopub.execute_input": "2024-07-03T08:01:22.626808Z",
     "iopub.status.busy": "2024-07-03T08:01:22.626414Z",
     "iopub.status.idle": "2024-07-03T08:01:23.046227Z",
     "shell.execute_reply": "2024-07-03T08:01:23.044922Z"
    },
    "papermill": {
     "duration": 0.437767,
     "end_time": "2024-07-03T08:01:23.049513",
     "exception": false,
     "start_time": "2024-07-03T08:01:22.611746",
     "status": "completed"
    },
    "tags": []
   },
   "outputs": [
    {
     "data": {
      "image/png": "[encoded data removed]",
      "text/plain": [
       "<Figure size 1000x600 with 1 Axes>"
      ]
     },
     "metadata": {},
     "output_type": "display_data"
    }
   ],
   "source": [
    "toss_by_ground=toss_by_ground[toss_by_ground['total_played_matches']>=6]\n",
    "toss_by_ground=toss_by_ground.reset_index()\n",
    "Venue=[]\n",
    "for i in toss_by_ground['Venue']:\n",
    "    Venue.append(i.split(\",\")[-1])\n",
    "toss_by_ground['Venue']=Venue\n",
    "plt.figure(figsize=(10,6))\n",
    "sns.barplot(data=toss_by_ground,x='Venue',y='decision_on_toss_percentage',hue='Toss Decision')\n",
    "plt.title(\"Toss Decision on Different Stadiums\")\n",
    "plt.xlabel('Name of Stadium')\n",
    "plt.ylabel('Percentage')\n",
    "plt.show()"
   ]
  },
  {
   "cell_type": "markdown",
   "id": "3214fdac",
   "metadata": {
    "papermill": {
     "duration": 0.01535,
     "end_time": "2024-07-03T08:01:23.082952",
     "exception": false,
     "start_time": "2024-07-03T08:01:23.067602",
     "status": "completed"
    },
    "tags": []
   },
   "source": [
    "**In St Lucia, all team who win the toss chooses Fielding. On winning toss, team usually choose Fielding.** "
   ]
  }
 ],
 "metadata": {
  "kaggle": {
   "accelerator": "none",
   "dataSources": [
    {
     "datasetId": 5305235,
     "sourceId": 8819801,
     "sourceType": "datasetVersion"
    }
   ],
   "dockerImageVersionId": 30732,
   "isGpuEnabled": false,
   "isInternetEnabled": true,
   "language": "python",
   "sourceType": "notebook"
  },
  "kernelspec": {
   "display_name": "Python 3",
   "language": "python",
   "name": "python3"
  },
  "language_info": {
   "codemirror_mode": {
    "name": "ipython",
    "version": 3
   },
   "file_extension": ".py",
   "mimetype": "text/x-python",
   "name": "python",
   "nbconvert_exporter": "python",
   "pygments_lexer": "ipython3",
   "version": "3.10.13"
  },
  "papermill": {
   "default_parameters": {},
   "duration": 9.31802,
   "end_time": "2024-07-03T08:01:23.718192",
   "environment_variables": {},
   "exception": null,
   "input_path": "__notebook__.ipynb",
   "output_path": "__notebook__.ipynb",
   "parameters": {},
   "start_time": "2024-07-03T08:01:14.400172",
   "version": "2.5.0"
  }
 },
 "nbformat": 4,
 "nbformat_minor": 5
}
